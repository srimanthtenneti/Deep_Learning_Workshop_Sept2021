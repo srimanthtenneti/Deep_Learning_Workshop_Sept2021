{
  "nbformat": 4,
  "nbformat_minor": 0,
  "metadata": {
    "colab": {
      "name": "Day2Lab_Perceptron101.ipynb",
      "provenance": [],
      "collapsed_sections": [],
      "authorship_tag": "ABX9TyPcw3F50nEvM6M+1QQ1gLya",
      "include_colab_link": true
    },
    "kernelspec": {
      "name": "python3",
      "display_name": "Python 3"
    },
    "language_info": {
      "name": "python"
    }
  },
  "cells": [
    {
      "cell_type": "markdown",
      "metadata": {
        "id": "view-in-github",
        "colab_type": "text"
      },
      "source": [
        "<a href=\"https://colab.research.google.com/github/srimanthtenneti/Deep_Learning_Workshop_Sept2021/blob/main/Day2Lab_Perceptron101.ipynb\" target=\"_parent\"><img src=\"https://colab.research.google.com/assets/colab-badge.svg\" alt=\"Open In Colab\"/></a>"
      ]
    },
    {
      "cell_type": "markdown",
      "metadata": {
        "id": "VmJr7x2ZXcVj"
      },
      "source": [
        "# Introduction to Deep Learning\n",
        "\n",
        "### Introduction\n",
        "IEEE (Institute of Electrical and Electronics Engineering) is the world's largest organisation which is dedicated for the benifit of technological development. IEEE has highly cited publications, conferences, technology standards, and professional and educational activities. \n",
        "Technolites is a club of CVRCoE which is devoted for various technical events. Here students get highly inspired and share their ideas to derive some exceptionally innovative projects and technical event.\n",
        "For the first time in collaboration with IEEE CVECoE and Technolites CVRCoE we are presenting to you a 6-days workshop on Deep Learning.\n",
        "\n",
        "### About the Notebook\n",
        "\n",
        "* Author : Srimanth Tenneti\n",
        "* Date   : 22/09/2021\n",
        "* Version : 1.0\n",
        "* Description : Day-2 Hands on Lab Notebook\n",
        "* Topic : Perceptron Introduction\n",
        "* Prerequisites  \n",
        "                  1. Python \n",
        "                  2. Basic Calculus - Differentiation, Chain Rule, ... \n",
        "\n",
        "### Instructions\n",
        "\n",
        "* The notebook contains some Fixme segments. The code will only work if they are filled with the appropriate code.\n",
        "\n",
        "* Follow the instructions during the Live Session to complete the code. \n",
        "\n",
        "* In case you face any issues kindly contact the Training Assistants in the live session or contact the IEEE CVRCE members via the Discord Community.\n"
      ]
    },
    {
      "cell_type": "markdown",
      "metadata": {
        "id": "WwsaABb6Uyvw"
      },
      "source": [
        "### Excerise 1"
      ]
    },
    {
      "cell_type": "code",
      "metadata": {
        "id": "zCMe5KlvU06C"
      },
      "source": [
        "def perceptron(i1 , i2 , w1 , w2 , b):\n",
        "  result = i1 * w1 + i2 * w2 + b\n",
        "  if result > 0 : \n",
        "    return True\n",
        "  else : \n",
        "    return False\n",
        "\n",
        "## AND Truth Table ##\n",
        "#####################\n",
        "## I1  #  I2  #  O/P#\n",
        "#####################\n",
        "## 0   #  0   #  0  #\n",
        "## 0   #  1   #  0  #\n",
        "## 1   #  0   #  0  #\n",
        "## 1   #  1   #  1  #\n",
        "#####################\n",
        "\n",
        "\n",
        "### Todo : Estimate the parameters for a AND perceptron\n",
        "w1 = Fixme\n",
        "w2 = Fixme\n",
        "b =  Fixme\n",
        "\n",
        "#output = perceptron(i1 , i2 , w1 , w2 , b)\n",
        "# ReLu f(x) = x for all x > 0 and f(x) = 0 for all x < 0\n",
        "\n",
        "def solution_check(i1 , i2 , output):\n",
        "  if (i1 == 0 and i2 == 0):\n",
        "    assert(output == False)\n",
        "  elif (i1 == 0 and i2 == 1):\n",
        "    assert(output == False)\n",
        "  elif (i1 == 1 and i2 == 0):\n",
        "    assert(output == False)\n",
        "  elif (i1 == 1 and i2 == 1):\n",
        "    assert(output == True)"
      ],
      "execution_count": null,
      "outputs": []
    },
    {
      "cell_type": "code",
      "metadata": {
        "id": "H-lBOQreVKhJ"
      },
      "source": [
        "output = perceptron(1 , 1 , w1 , w2 , b)\n",
        "print(output)\n",
        "solution_check(1 , 1 , output)"
      ],
      "execution_count": null,
      "outputs": []
    },
    {
      "cell_type": "markdown",
      "metadata": {
        "id": "gkaJ-nVbUwbt"
      },
      "source": [
        "# Perceptron Implementation\n",
        "\n",
        "## Forward Pass\n",
        "\n",
        "\\begin{equation}\n",
        "    O = W1 * X1 + W2 * X2 + B\n",
        "\\end{equation} \n",
        "\n",
        "#### Sigmoid Activation\n",
        "\n",
        "\\begin{equation}\n",
        "    \\sigma(x) = \\frac{1}{1+e^{-x}}\n",
        "\\end{equation} \n",
        "\n",
        "#### Perceptron Output After Activation\n",
        "\n",
        "\n",
        "\\begin{equation}\n",
        "    Y' = \\sigma(O)\n",
        "\\end{equation} \n",
        "\n",
        "### Gradient Descent\n",
        "\n",
        "#### Cost Function - {Mean Square Error} \n",
        "\n",
        "\\begin{equation}\n",
        "    E(Y',Y) = (Y' - Y)^{2}\n",
        "\\end{equation} \n",
        "\n",
        "#### Gradient Calculation\n",
        "\n",
        "\\begin{equation}\n",
        "    E = (\\sigma(O) - Y)^{2}\n",
        "\\end{equation} \n",
        "\n",
        "\\begin{equation}\n",
        "    \\frac{\\partial E}{\\partial W} = \\frac{\\partial E}{\\partial Y'} * \\frac{\\partial Y'}{\\partial O} * \\frac{\\partial O}{\\partial W}\n",
        "\\end{equation} \n",
        "\n",
        "\\begin{equation}\n",
        "    \\frac{\\partial E}{\\partial W} = 2 * (Y' - Y) * \\sigma'(O) * X\n",
        "\\end{equation} \n",
        "\n",
        "Note\n",
        "----\n",
        "\n",
        "\\begin{equation}\n",
        "    \\sigma'(x) = \\frac{1}{1+e^{-x}} - \\frac{1}{(1+e^{-x})^{2}}\n",
        "\\end{equation} \n",
        "\n",
        "This can be simplified as ...\n",
        "\n",
        "\\begin{equation}\n",
        "    \\sigma'(x) = \\sigma(x) * (1 - \\sigma(x))\n",
        "\\end{equation} \n",
        "\n",
        "\n",
        " #### Update Step for W1\n",
        " \\begin{equation}\n",
        "    W1' --> W1 - \\alpha  *  \\frac{\\partial E}{\\partial W1} \n",
        "\\end{equation} \n",
        "\n",
        " #### Update Step for W2\n",
        " \\begin{equation}\n",
        "    W2' --> W2 - \\alpha  *  \\frac{\\partial E}{\\partial W2} \n",
        "\\end{equation} \n",
        "\n",
        " #### Update Step for B\n",
        " \\begin{equation}\n",
        "    B' --> B - \\alpha  *  \\frac{\\partial E}{\\partial B} \n",
        "\\end{equation} \n",
        "\n"
      ]
    },
    {
      "cell_type": "markdown",
      "metadata": {
        "id": "7OVcyqzNVPIj"
      },
      "source": [
        "### Sigmoid and Sigmoid' implementation"
      ]
    },
    {
      "cell_type": "code",
      "metadata": {
        "id": "n-9Vacf-VTCT"
      },
      "source": [
        "### Todo : Implement sigmoid and sigmoid'\n",
        "def sigmoid(x):\n",
        "  return Fixme\n",
        "def sigmoid_diff(x):\n",
        "  return Fixme"
      ],
      "execution_count": null,
      "outputs": []
    },
    {
      "cell_type": "code",
      "metadata": {
        "id": "Mmgrz910Ve3d"
      },
      "source": [
        "### Analysing the sigmoid behaviour\n",
        "t = np.linspace(-5 , 5 , 100) #Random data points\n",
        "y = sigmoid_diff(t)\n",
        "plt.plot(t,y,c='r')\n",
        "plt.plot(t,sigmoid(t),c='b')"
      ],
      "execution_count": null,
      "outputs": []
    },
    {
      "cell_type": "markdown",
      "metadata": {
        "id": "_83b8WAcVrCX"
      },
      "source": [
        "### Dataset"
      ]
    },
    {
      "cell_type": "code",
      "metadata": {
        "id": "XLLK-7uyVnu6"
      },
      "source": [
        "### Dataset -> [Petal Width ,Petal Length , Flower Type] \n",
        "\n",
        "data = [[3 , 1.5 , 1],\n",
        "        [2 , 1 , 0],\n",
        "        [4 , 1.5 , 1],\n",
        "        [3 , 1  , 0],\n",
        "        [3.5 , 0.5 , 1],\n",
        "        [2 , 0.5 , 0], #1 -> Red , #0 -> Blue\n",
        "        [5.5 , 1 , 1],\n",
        "        [1 , 1 , 0]]\n",
        "\n",
        "unknown_flower = [4.5 , 1]"
      ],
      "execution_count": null,
      "outputs": []
    },
    {
      "cell_type": "markdown",
      "metadata": {
        "id": "5Nx0g0x7Vx8W"
      },
      "source": [
        "### Importing required libraries"
      ]
    },
    {
      "cell_type": "code",
      "metadata": {
        "id": "kGO5OoCwVtvY"
      },
      "source": [
        "import matplotlib.pyplot as plt\n",
        "import numpy as np"
      ],
      "execution_count": null,
      "outputs": []
    },
    {
      "cell_type": "code",
      "metadata": {
        "id": "3vcZjpAqV1eZ"
      },
      "source": [
        "# Network \n",
        "\n",
        "#      o --> Flower Type\n",
        "# w1 /   \\w2 \n",
        "#   o    o  --> lenght & width\n",
        "\n",
        "# Todo : Random weight initialization\n",
        "\n",
        "w1 = Fixme\n",
        "w2 = Fixme\n",
        "b  = Fixme"
      ],
      "execution_count": null,
      "outputs": []
    },
    {
      "cell_type": "markdown",
      "metadata": {
        "id": "aQJ_FAkuWGPF"
      },
      "source": [
        "### Visualizing the data"
      ]
    },
    {
      "cell_type": "code",
      "metadata": {
        "id": "aKSipV_HV9c2"
      },
      "source": [
        "for i in range(len(data)):\n",
        "    point = data[i]\n",
        "    color = 'r'\n",
        "    if (point[2] == 0):\n",
        "        color = \"b\"\n",
        "    plt.scatter(point[0] , point[1] , c= color)\n",
        "    plt.scatter(unknown_flower[0] , unknown_flower[1] , c = 'g')\n",
        "    plt.legend(['Red Flower' , 'Unknown Flower' ,'Blue Flower'])"
      ],
      "execution_count": null,
      "outputs": []
    },
    {
      "cell_type": "markdown",
      "metadata": {
        "id": "PcgCunJRWNzz"
      },
      "source": [
        "### Training the model"
      ]
    },
    {
      "cell_type": "code",
      "metadata": {
        "id": "Y-hWAi_IWRur"
      },
      "source": [
        "### Training Loop\n",
        "\n",
        "### Todo : Define the hyperparameters\n",
        "\n",
        "n_epochs = Fixme # Number of epochs\n",
        "lr = Fixme # Learning Rate\n",
        "\n",
        "### Todo : Train the model\n"
      ],
      "execution_count": null,
      "outputs": []
    },
    {
      "cell_type": "markdown",
      "metadata": {
        "id": "Ynnm3W9XWt7D"
      },
      "source": [
        "### Visualizing the costs"
      ]
    },
    {
      "cell_type": "code",
      "metadata": {
        "id": "nXWYfXV6WtP_"
      },
      "source": [
        "def plot(costs):\n",
        "  plt.plot(costs)\n",
        "  plt.xlabel(\"Epochs...\")\n",
        "  plt.ylabel(\"Costs ...\")\n",
        "  plt.title(\"Costs Plot\")"
      ],
      "execution_count": null,
      "outputs": []
    },
    {
      "cell_type": "markdown",
      "metadata": {
        "id": "1IA4Moo4XD4x"
      },
      "source": [
        "### Inference"
      ]
    },
    {
      "cell_type": "code",
      "metadata": {
        "id": "lABXSeUjXG4W"
      },
      "source": [
        "idx = np.random.randint(0 , 7)\n",
        "\n",
        "print(idx)\n",
        "\n",
        "point[0] = data[idx][0]\n",
        "point[1] = data[idx][1]\n",
        "\n",
        "y = data[idx][2]\n",
        "\n",
        "pred = sigmoid(point[0] * w1 + point[1] * w2 + b) # Forward pass\n",
        "error = (pred - y) ** 2\n",
        "\n",
        "print(y)\n",
        "print(pred)\n",
        "print(error)"
      ],
      "execution_count": null,
      "outputs": []
    },
    {
      "cell_type": "code",
      "metadata": {
        "id": "Ynjqq1msXQcv"
      },
      "source": [
        "pred = perceptron(5.5,1,w1,w2,b)\n",
        "\n",
        "if (pred > 0.5): # Todo : Define Threshold \n",
        "    print(\"Its a red flower\")\n",
        "else:\n",
        "    print(\"Blue flower\")"
      ],
      "execution_count": null,
      "outputs": []
    },
    {
      "cell_type": "markdown",
      "metadata": {
        "id": "XheDxXHFXTYj"
      },
      "source": [
        "### Trained Weights"
      ]
    },
    {
      "cell_type": "code",
      "metadata": {
        "id": "UGWaoLY_XU8t"
      },
      "source": [
        "### Trained Weights -> (Only for reference)\n",
        "\n",
        "w1 = 0.0769270733846528\n",
        "\n",
        "w2 = 0.060348710894484126\n",
        "\n",
        "b = 0.060348710894484126"
      ],
      "execution_count": null,
      "outputs": []
    }
  ]
}