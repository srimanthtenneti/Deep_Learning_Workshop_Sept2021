{
  "nbformat": 4,
  "nbformat_minor": 0,
  "metadata": {
    "colab": {
      "name": "Day3Lab_MLPPyTorch.ipynb",
      "provenance": [],
      "collapsed_sections": [],
      "authorship_tag": "ABX9TyNC+ut+ZXZH1R2/7MLsYg47",
      "include_colab_link": true
    },
    "kernelspec": {
      "name": "python3",
      "display_name": "Python 3"
    },
    "language_info": {
      "name": "python"
    }
  },
  "cells": [
    {
      "cell_type": "markdown",
      "metadata": {
        "id": "view-in-github",
        "colab_type": "text"
      },
      "source": [
        "<a href=\"https://colab.research.google.com/github/srimanthtenneti/Deep_Learning_Workshop_Sept2021/blob/main/Day3Lab_MLPPyTorch.ipynb\" target=\"_parent\"><img src=\"https://colab.research.google.com/assets/colab-badge.svg\" alt=\"Open In Colab\"/></a>"
      ]
    },
    {
      "cell_type": "markdown",
      "metadata": {
        "id": "SG9LdAd-HjD_"
      },
      "source": [
        "# Introduction to Deep Learning\n",
        "\n",
        "### Introduction\n",
        "IEEE (Institute of Electrical and Electronics Engineering) is the world's largest organisation which is dedicated for the benifit of technological development. IEEE has highly cited publications, conferences, technology standards, and professional and educational activities. \n",
        "Technolites is a club of CVRCoE which is devoted for various technical events. Here students get highly inspired and share their ideas to derive some exceptionally innovative projects and technical event.\n",
        "For the first time in collaboration with IEEE CVECoE and Technolites CVRCoE we are presenting to you a 6-days workshop on Deep Learning.\n",
        "\n",
        "\n",
        "\n",
        "### About the Notebook\n",
        "\n",
        "* Author : Srimanth Tenneti\n",
        "* Date   : 22/09/2021\n",
        "* Version : 1.0\n",
        "* Description : Day-3 Hands on Lab Notebook\n",
        "* Topic : Building Neural Networks using PyTorch\n",
        "* Prerequisites  \n",
        "                  1. Python \n",
        "                  2. Basic Calculus - Differentiation, Chain Rule\n",
        "                  3. Perceptron Theory - Gradient Descent, Activation, Forward pass\n",
        "                  4. Neural Network basics - Layers in a Network\n",
        "\n",
        "### Instructions\n",
        "\n",
        "* The notebook contains some Fixme segments. The code will only work if they are filled with the appropriate code.\n",
        "\n",
        "* Follow the instructions during the Live Session to complete the code. \n",
        "\n",
        "* In case you face any issues kindly contact the Training Assistants in the live session or contact the IEEE CVRCE members via the Discord Community.\n"
      ]
    },
    {
      "cell_type": "markdown",
      "metadata": {
        "id": "iNQYd8hHPR6i"
      },
      "source": [
        "### Importing the required libraries for processing the data"
      ]
    },
    {
      "cell_type": "code",
      "metadata": {
        "id": "g3VE6LcfHj6E"
      },
      "source": [
        "import numpy as np\n",
        "import matplotlib.pyplot as plt\n",
        "import pandas as pd "
      ],
      "execution_count": null,
      "outputs": []
    },
    {
      "cell_type": "markdown",
      "metadata": {
        "id": "W9SakPzPPWk0"
      },
      "source": [
        "### Downloading the dataset"
      ]
    },
    {
      "cell_type": "code",
      "metadata": {
        "colab": {
          "base_uri": "https://localhost:8080/"
        },
        "id": "WeFVDwEYBQjK",
        "outputId": "bf5b8ab4-6314-4516-e500-7b3823398aa4"
      },
      "source": [
        "!git clone https://github.com/srimanthtenneti/Datasets"
      ],
      "execution_count": null,
      "outputs": [
        {
          "output_type": "stream",
          "name": "stdout",
          "text": [
            "fatal: destination path 'Datasets' already exists and is not an empty directory.\n"
          ]
        }
      ]
    },
    {
      "cell_type": "markdown",
      "metadata": {
        "id": "PEQ4wG79PZ_Q"
      },
      "source": [
        "### Loading the dataset into a Pandas DataFrame"
      ]
    },
    {
      "cell_type": "code",
      "metadata": {
        "id": "DHOLVsvE_3Kx"
      },
      "source": [
        "dataset = Fixme # Fetch the dataset"
      ],
      "execution_count": null,
      "outputs": []
    },
    {
      "cell_type": "code",
      "metadata": {
        "colab": {
          "base_uri": "https://localhost:8080/",
          "height": 417
        },
        "id": "Qo9bLuSZBXf1",
        "outputId": "74df808c-a3b7-4ea6-8bb5-a5878c44ef02"
      },
      "source": [
        "dataset"
      ],
      "execution_count": null,
      "outputs": [
        {
          "output_type": "execute_result",
          "data": {
            "text/html": [
              "<div>\n",
              "<style scoped>\n",
              "    .dataframe tbody tr th:only-of-type {\n",
              "        vertical-align: middle;\n",
              "    }\n",
              "\n",
              "    .dataframe tbody tr th {\n",
              "        vertical-align: top;\n",
              "    }\n",
              "\n",
              "    .dataframe thead th {\n",
              "        text-align: right;\n",
              "    }\n",
              "</style>\n",
              "<table border=\"1\" class=\"dataframe\">\n",
              "  <thead>\n",
              "    <tr style=\"text-align: right;\">\n",
              "      <th></th>\n",
              "      <th>Id</th>\n",
              "      <th>SepalLengthCm</th>\n",
              "      <th>SepalWidthCm</th>\n",
              "      <th>PetalLengthCm</th>\n",
              "      <th>PetalWidthCm</th>\n",
              "      <th>Species</th>\n",
              "    </tr>\n",
              "  </thead>\n",
              "  <tbody>\n",
              "    <tr>\n",
              "      <th>0</th>\n",
              "      <td>1</td>\n",
              "      <td>5.1</td>\n",
              "      <td>3.5</td>\n",
              "      <td>1.4</td>\n",
              "      <td>0.2</td>\n",
              "      <td>Iris-setosa</td>\n",
              "    </tr>\n",
              "    <tr>\n",
              "      <th>1</th>\n",
              "      <td>2</td>\n",
              "      <td>4.9</td>\n",
              "      <td>3.0</td>\n",
              "      <td>1.4</td>\n",
              "      <td>0.2</td>\n",
              "      <td>Iris-setosa</td>\n",
              "    </tr>\n",
              "    <tr>\n",
              "      <th>2</th>\n",
              "      <td>3</td>\n",
              "      <td>4.7</td>\n",
              "      <td>3.2</td>\n",
              "      <td>1.3</td>\n",
              "      <td>0.2</td>\n",
              "      <td>Iris-setosa</td>\n",
              "    </tr>\n",
              "    <tr>\n",
              "      <th>3</th>\n",
              "      <td>4</td>\n",
              "      <td>4.6</td>\n",
              "      <td>3.1</td>\n",
              "      <td>1.5</td>\n",
              "      <td>0.2</td>\n",
              "      <td>Iris-setosa</td>\n",
              "    </tr>\n",
              "    <tr>\n",
              "      <th>4</th>\n",
              "      <td>5</td>\n",
              "      <td>5.0</td>\n",
              "      <td>3.6</td>\n",
              "      <td>1.4</td>\n",
              "      <td>0.2</td>\n",
              "      <td>Iris-setosa</td>\n",
              "    </tr>\n",
              "    <tr>\n",
              "      <th>...</th>\n",
              "      <td>...</td>\n",
              "      <td>...</td>\n",
              "      <td>...</td>\n",
              "      <td>...</td>\n",
              "      <td>...</td>\n",
              "      <td>...</td>\n",
              "    </tr>\n",
              "    <tr>\n",
              "      <th>145</th>\n",
              "      <td>146</td>\n",
              "      <td>6.7</td>\n",
              "      <td>3.0</td>\n",
              "      <td>5.2</td>\n",
              "      <td>2.3</td>\n",
              "      <td>Iris-virginica</td>\n",
              "    </tr>\n",
              "    <tr>\n",
              "      <th>146</th>\n",
              "      <td>147</td>\n",
              "      <td>6.3</td>\n",
              "      <td>2.5</td>\n",
              "      <td>5.0</td>\n",
              "      <td>1.9</td>\n",
              "      <td>Iris-virginica</td>\n",
              "    </tr>\n",
              "    <tr>\n",
              "      <th>147</th>\n",
              "      <td>148</td>\n",
              "      <td>6.5</td>\n",
              "      <td>3.0</td>\n",
              "      <td>5.2</td>\n",
              "      <td>2.0</td>\n",
              "      <td>Iris-virginica</td>\n",
              "    </tr>\n",
              "    <tr>\n",
              "      <th>148</th>\n",
              "      <td>149</td>\n",
              "      <td>6.2</td>\n",
              "      <td>3.4</td>\n",
              "      <td>5.4</td>\n",
              "      <td>2.3</td>\n",
              "      <td>Iris-virginica</td>\n",
              "    </tr>\n",
              "    <tr>\n",
              "      <th>149</th>\n",
              "      <td>150</td>\n",
              "      <td>5.9</td>\n",
              "      <td>3.0</td>\n",
              "      <td>5.1</td>\n",
              "      <td>1.8</td>\n",
              "      <td>Iris-virginica</td>\n",
              "    </tr>\n",
              "  </tbody>\n",
              "</table>\n",
              "<p>150 rows × 6 columns</p>\n",
              "</div>"
            ],
            "text/plain": [
              "      Id  SepalLengthCm  ...  PetalWidthCm         Species\n",
              "0      1            5.1  ...           0.2     Iris-setosa\n",
              "1      2            4.9  ...           0.2     Iris-setosa\n",
              "2      3            4.7  ...           0.2     Iris-setosa\n",
              "3      4            4.6  ...           0.2     Iris-setosa\n",
              "4      5            5.0  ...           0.2     Iris-setosa\n",
              "..   ...            ...  ...           ...             ...\n",
              "145  146            6.7  ...           2.3  Iris-virginica\n",
              "146  147            6.3  ...           1.9  Iris-virginica\n",
              "147  148            6.5  ...           2.0  Iris-virginica\n",
              "148  149            6.2  ...           2.3  Iris-virginica\n",
              "149  150            5.9  ...           1.8  Iris-virginica\n",
              "\n",
              "[150 rows x 6 columns]"
            ]
          },
          "metadata": {},
          "execution_count": 176
        }
      ]
    },
    {
      "cell_type": "markdown",
      "metadata": {
        "id": "j8kaDoPCPeUW"
      },
      "source": [
        "### Combining the dataframe columns into a single feature vector"
      ]
    },
    {
      "cell_type": "code",
      "metadata": {
        "id": "mF3VnYgQBYaO"
      },
      "source": [
        "### Engineer the feature vector\n",
        "spl = Fixme \n",
        "swd = Fixme\n",
        "ppl = Fixme\n",
        "pwd = Fixme\n",
        "feature_vector = np.concatenate((spl,swd,ppl,pwd),axis=1)"
      ],
      "execution_count": null,
      "outputs": []
    },
    {
      "cell_type": "markdown",
      "metadata": {
        "id": "uK8DHcvmPmuD"
      },
      "source": [
        "### Looking at some samples"
      ]
    },
    {
      "cell_type": "code",
      "metadata": {
        "colab": {
          "base_uri": "https://localhost:8080/"
        },
        "id": "D4XvRPg1Di2a",
        "outputId": "272b7ad6-8da5-4aee-b8e6-bf9998be1de3"
      },
      "source": [
        "feature_vector[:10]"
      ],
      "execution_count": null,
      "outputs": [
        {
          "output_type": "execute_result",
          "data": {
            "text/plain": [
              "array([[5.1, 3.5, 1.4, 0.2],\n",
              "       [4.9, 3. , 1.4, 0.2],\n",
              "       [4.7, 3.2, 1.3, 0.2],\n",
              "       [4.6, 3.1, 1.5, 0.2],\n",
              "       [5. , 3.6, 1.4, 0.2],\n",
              "       [5.4, 3.9, 1.7, 0.4],\n",
              "       [4.6, 3.4, 1.4, 0.3],\n",
              "       [5. , 3.4, 1.5, 0.2],\n",
              "       [4.4, 2.9, 1.4, 0.2],\n",
              "       [4.9, 3.1, 1.5, 0.1]])"
            ]
          },
          "metadata": {},
          "execution_count": 178
        }
      ]
    },
    {
      "cell_type": "markdown",
      "metadata": {
        "id": "I63xn9HGPpvx"
      },
      "source": [
        "### Encoding the categorical data"
      ]
    },
    {
      "cell_type": "code",
      "metadata": {
        "id": "4EWB8KLdDkTJ"
      },
      "source": [
        "### Encoding the target data\n",
        "import sklearn.preprocessing\n",
        "ord_encoder = ### Instantiate the ordinal encoder"
      ],
      "execution_count": null,
      "outputs": []
    },
    {
      "cell_type": "code",
      "metadata": {
        "id": "fKe7Z9NiEccn"
      },
      "source": [
        "target = Fixme ### Implement encoding scheme to handle categorical data"
      ],
      "execution_count": null,
      "outputs": []
    },
    {
      "cell_type": "markdown",
      "metadata": {
        "id": "t2_LPRJqPug2"
      },
      "source": [
        "### Importing PyTorch for constructing the Neural Network"
      ]
    },
    {
      "cell_type": "code",
      "metadata": {
        "id": "hAVchGt3FVTG"
      },
      "source": [
        "import torch\n",
        "import torch.nn as nn\n",
        "import torch.nn.functional as f"
      ],
      "execution_count": null,
      "outputs": []
    },
    {
      "cell_type": "markdown",
      "metadata": {
        "id": "5qCQvcdMP9Eh"
      },
      "source": [
        "### Defining the Neural Network"
      ]
    },
    {
      "cell_type": "code",
      "metadata": {
        "id": "AKHTOleAFdd0"
      },
      "source": [
        "class Neural_Network(nn.Module):\n",
        "  def __init__(self):\n",
        "    super(Neural_Network, self).__init__()\n",
        "    ### Fixme : Define the network layers\n",
        "  def forward(self , x):\n",
        "    ### Fixme : Define the flow of data\n",
        "    return x"
      ],
      "execution_count": null,
      "outputs": []
    },
    {
      "cell_type": "markdown",
      "metadata": {
        "id": "TDRiYoPCQA9C"
      },
      "source": [
        "### Instantiating the model"
      ]
    },
    {
      "cell_type": "code",
      "metadata": {
        "colab": {
          "base_uri": "https://localhost:8080/"
        },
        "id": "PWuuJ-RzGSVi",
        "outputId": "dfa26ba2-2e36-4168-bedd-e61729163a47"
      },
      "source": [
        "model = Fixme # Instantiate the neural network\n",
        "model "
      ],
      "execution_count": null,
      "outputs": [
        {
          "output_type": "execute_result",
          "data": {
            "text/plain": [
              "Neural_Network(\n",
              "  (fc1): Linear(in_features=4, out_features=3, bias=True)\n",
              "  (fc2): Linear(in_features=3, out_features=2, bias=True)\n",
              "  (fc3): Linear(in_features=2, out_features=1, bias=True)\n",
              ")"
            ]
          },
          "metadata": {},
          "execution_count": 184
        }
      ]
    },
    {
      "cell_type": "markdown",
      "metadata": {
        "id": "RFb5VZEpUU2o"
      },
      "source": [
        "### Testing the inference"
      ]
    },
    {
      "cell_type": "code",
      "metadata": {
        "colab": {
          "base_uri": "https://localhost:8080/"
        },
        "id": "tFLtFyhwHGQC",
        "outputId": "d29c541d-c004-43d1-ae90-8f48b5c34c2c"
      },
      "source": [
        "infer = Fixme # Test inference\n",
        "print(infer)"
      ],
      "execution_count": null,
      "outputs": [
        {
          "output_type": "stream",
          "name": "stderr",
          "text": [
            "/usr/local/lib/python3.7/dist-packages/torch/nn/functional.py:1794: UserWarning: nn.functional.tanh is deprecated. Use torch.tanh instead.\n",
            "  warnings.warn(\"nn.functional.tanh is deprecated. Use torch.tanh instead.\")\n"
          ]
        },
        {
          "output_type": "execute_result",
          "data": {
            "text/plain": [
              "tensor([-0.3844], grad_fn=<AddBackward0>)"
            ]
          },
          "metadata": {},
          "execution_count": 185
        }
      ]
    },
    {
      "cell_type": "markdown",
      "metadata": {
        "id": "jk0yZCwwXDwQ"
      },
      "source": [
        "### Defining the hyperparameters & Optimization functions"
      ]
    },
    {
      "cell_type": "code",
      "metadata": {
        "id": "0JxmPBTiIQ9T"
      },
      "source": [
        "### Hyperparameters\n",
        "n_epochs = Fixme # Define the number of epochs\n",
        "lr = Fixme # Define the learning rate\n",
        "\n",
        "### Define Loss function and ther optimizer\n",
        "criterion = nn.MSELoss()\n",
        "optimizer = torch.optim.SGD(Fixme , lr = lr) # Pass the model parameters"
      ],
      "execution_count": null,
      "outputs": []
    },
    {
      "cell_type": "markdown",
      "metadata": {
        "id": "WAfEafNKXI-S"
      },
      "source": [
        "### Training Loop"
      ]
    },
    {
      "cell_type": "code",
      "metadata": {
        "id": "nunJlE5FGVcS",
        "colab": {
          "base_uri": "https://localhost:8080/"
        },
        "outputId": "318a0259-d530-4394-c07f-ca5fd093dfcc"
      },
      "source": [
        "loss = []\n",
        "Fixme # Write the training loop"
      ],
      "execution_count": null,
      "outputs": [
        {
          "output_type": "stream",
          "name": "stderr",
          "text": [
            "/usr/local/lib/python3.7/dist-packages/torch/nn/functional.py:1794: UserWarning: nn.functional.tanh is deprecated. Use torch.tanh instead.\n",
            "  warnings.warn(\"nn.functional.tanh is deprecated. Use torch.tanh instead.\")\n"
          ]
        },
        {
          "output_type": "stream",
          "name": "stdout",
          "text": [
            "Epoch : 1 , Training Loss : 1.7563176155090332\n",
            "Epoch : 3 , Training Loss : 0.28877031803131104\n",
            "Epoch : 5 , Training Loss : 0.11645282804965973\n",
            "Epoch : 7 , Training Loss : 0.043326832354068756\n",
            "Epoch : 9 , Training Loss : 0.015231848694384098\n",
            "Epoch : 11 , Training Loss : 0.006433142349123955\n",
            "Epoch : 13 , Training Loss : 0.0036106009501963854\n",
            "Epoch : 15 , Training Loss : 0.002531397622078657\n",
            "Epoch : 17 , Training Loss : 0.002056856406852603\n",
            "Epoch : 19 , Training Loss : 0.0018312642350792885\n",
            "Training Done !!!\n"
          ]
        }
      ]
    },
    {
      "cell_type": "markdown",
      "metadata": {
        "id": "ihtZYUaSXKuR"
      },
      "source": [
        "### Loss Plot"
      ]
    },
    {
      "cell_type": "code",
      "metadata": {
        "colab": {
          "base_uri": "https://localhost:8080/",
          "height": 282
        },
        "id": "AsJYfriMKxyu",
        "outputId": "1d9e0c01-7228-4e4a-a0f1-2c7ec518de33"
      },
      "source": [
        "plt.plot(loss)"
      ],
      "execution_count": null,
      "outputs": [
        {
          "output_type": "execute_result",
          "data": {
            "text/plain": [
              "[<matplotlib.lines.Line2D at 0x7f2ccc1f91d0>]"
            ]
          },
          "metadata": {},
          "execution_count": 188
        },
        {
          "output_type": "display_data",
          "data": {
            "image/png": "[encoded data removed]",
            "text/plain": [
              "<Figure size 432x288 with 1 Axes>"
            ]
          },
          "metadata": {
            "needs_background": "light"
          }
        }
      ]
    },
    {
      "cell_type": "markdown",
      "metadata": {
        "id": "3vFnfHl4XMvM"
      },
      "source": [
        "### Accuracy Calculation"
      ]
    },
    {
      "cell_type": "code",
      "metadata": {
        "id": "CFcUX4BmK5s1",
        "colab": {
          "base_uri": "https://localhost:8080/"
        },
        "outputId": "4b4af499-e767-4afd-cfc1-7822d5c937aa"
      },
      "source": [
        "### Cheking the model accuracy\n",
        "total = len(dataset)\n",
        "count = 0.0\n",
        "for i in range(len(feature_vector)):\n",
        "  x = torch.Tensor(feature_vector[i])\n",
        "  pred = np.round(model(x).detach().numpy())\n",
        "  if pred == target[i]:\n",
        "    count += 1\n",
        "print(\"Model Accuracy: {}%\".format(count/total))"
      ],
      "execution_count": 193,
      "outputs": [
        {
          "output_type": "stream",
          "name": "stdout",
          "text": [
            "Model Accuracy: 0.8466666666666667%\n"
          ]
        },
        {
          "output_type": "stream",
          "name": "stderr",
          "text": [
            "/usr/local/lib/python3.7/dist-packages/torch/nn/functional.py:1794: UserWarning: nn.functional.tanh is deprecated. Use torch.tanh instead.\n",
            "  warnings.warn(\"nn.functional.tanh is deprecated. Use torch.tanh instead.\")\n"
          ]
        }
      ]
    }
  ]
}